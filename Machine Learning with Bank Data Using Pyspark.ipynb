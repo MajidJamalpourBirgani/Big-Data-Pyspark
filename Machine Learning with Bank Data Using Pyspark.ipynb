{
 "cells": [
  {
   "cell_type": "markdown",
   "metadata": {},
   "source": [
    "## libraries"
   ]
  },
  {
   "cell_type": "code",
   "execution_count": 2,
   "metadata": {},
   "outputs": [],
   "source": [
    "from pyspark.sql import SparkSession\n",
    "from pyspark.ml import Pipeline\n",
    "from pyspark.sql.functions import mean,col,split, col, regexp_extract, when, lit\n",
    "from pyspark.ml.feature import StringIndexer\n",
    "from pyspark.ml.feature import VectorAssembler\n",
    "from pyspark.ml.feature import OneHotEncoder\n",
    "from pyspark.ml.evaluation import MulticlassClassificationEvaluator\n",
    "from pyspark.ml.feature import QuantileDiscretizer"
   ]
  },
  {
   "cell_type": "markdown",
   "metadata": {},
   "source": [
    "### Creating the Spark Session"
   ]
  },
  {
   "cell_type": "code",
   "execution_count": 49,
   "metadata": {},
   "outputs": [],
   "source": [
    "spark=SparkSession.builder.master(\"local[2]\").appName(\"Machine Learning with Bank Data Using Pyspark\").getOrCreate()"
   ]
  },
  {
   "cell_type": "code",
   "execution_count": 4,
   "metadata": {},
   "outputs": [
    {
     "data": {
      "text/html": [
       "\n",
       "            <div>\n",
       "                <p><b>SparkSession - hive</b></p>\n",
       "                \n",
       "        <div>\n",
       "            <p><b>SparkContext</b></p>\n",
       "\n",
       "            <p><a href=\"http://LAPTOP-4UBQS8BO:4040\">Spark UI</a></p>\n",
       "\n",
       "            <dl>\n",
       "              <dt>Version</dt>\n",
       "                <dd><code>v3.0.0-preview</code></dd>\n",
       "              <dt>Master</dt>\n",
       "                <dd><code>local[*]</code></dd>\n",
       "              <dt>AppName</dt>\n",
       "                <dd><code>PySparkShell</code></dd>\n",
       "            </dl>\n",
       "        </div>\n",
       "        \n",
       "            </div>\n",
       "        "
      ],
      "text/plain": [
       "<pyspark.sql.session.SparkSession at 0x24fb9913ac8>"
      ]
     },
     "execution_count": 4,
     "metadata": {},
     "output_type": "execute_result"
    }
   ],
   "source": [
    "spark"
   ]
  },
  {
   "cell_type": "code",
   "execution_count": 5,
   "metadata": {},
   "outputs": [
    {
     "data": {
      "text/html": [
       "\n",
       "        <div>\n",
       "            <p><b>SparkContext</b></p>\n",
       "\n",
       "            <p><a href=\"http://LAPTOP-4UBQS8BO:4040\">Spark UI</a></p>\n",
       "\n",
       "            <dl>\n",
       "              <dt>Version</dt>\n",
       "                <dd><code>v3.0.0-preview</code></dd>\n",
       "              <dt>Master</dt>\n",
       "                <dd><code>local[*]</code></dd>\n",
       "              <dt>AppName</dt>\n",
       "                <dd><code>PySparkShell</code></dd>\n",
       "            </dl>\n",
       "        </div>\n",
       "        "
      ],
      "text/plain": [
       "<SparkContext master=local[*] appName=PySparkShell>"
      ]
     },
     "execution_count": 5,
     "metadata": {},
     "output_type": "execute_result"
    }
   ],
   "source": [
    "sc = spark.sparkContext\n",
    "sc"
   ]
  },
  {
   "cell_type": "code",
   "execution_count": 6,
   "metadata": {},
   "outputs": [
    {
     "data": {
      "text/plain": [
       "<pyspark.sql.context.SQLContext at 0x24fb85f0288>"
      ]
     },
     "execution_count": 6,
     "metadata": {},
     "output_type": "execute_result"
    }
   ],
   "source": [
    "sqlContext = SQLContext(spark.sparkContext)\n",
    "sqlContext"
   ]
  },
  {
   "cell_type": "markdown",
   "metadata": {},
   "source": [
    "### Load The Data From a File Into a Dataframe"
   ]
  },
  {
   "cell_type": "code",
   "execution_count": 7,
   "metadata": {},
   "outputs": [],
   "source": [
    "df = spark.read.csv('C:\\\\Users\\\\Majid\\\\Desktop\\\\Jupeyetr\\\\pyspark\\\\bank.csv',header = 'True',inferSchema='True')"
   ]
  },
  {
   "cell_type": "code",
   "execution_count": 8,
   "metadata": {},
   "outputs": [
    {
     "data": {
      "text/plain": [
       "pyspark.sql.dataframe.DataFrame"
      ]
     },
     "execution_count": 8,
     "metadata": {},
     "output_type": "execute_result"
    }
   ],
   "source": [
    "type(df)"
   ]
  },
  {
   "cell_type": "code",
   "execution_count": 9,
   "metadata": {},
   "outputs": [
    {
     "data": {
      "text/plain": [
       "True"
      ]
     },
     "execution_count": 9,
     "metadata": {},
     "output_type": "execute_result"
    }
   ],
   "source": [
    "# We also cache the data so that we only read it from disk once.\n",
    "df.cache()\n",
    "\n",
    "df.is_cached            # Checks if df is cached"
   ]
  },
  {
   "cell_type": "code",
   "execution_count": 10,
   "metadata": {},
   "outputs": [
    {
     "data": {
      "text/plain": [
       "[('age', 'int'),\n",
       " ('job', 'string'),\n",
       " ('marital', 'string'),\n",
       " ('education', 'string'),\n",
       " ('default', 'string'),\n",
       " ('balance', 'int'),\n",
       " ('housing', 'string'),\n",
       " ('loan', 'string'),\n",
       " ('contact', 'string'),\n",
       " ('day', 'int'),\n",
       " ('month', 'string'),\n",
       " ('duration', 'int'),\n",
       " ('campaign', 'int'),\n",
       " ('pdays', 'int'),\n",
       " ('previous', 'int'),\n",
       " ('poutcome', 'string'),\n",
       " ('deposit', 'string')]"
      ]
     },
     "execution_count": 10,
     "metadata": {},
     "output_type": "execute_result"
    }
   ],
   "source": [
    "df.dtypes\n",
    "#column names and their data types"
   ]
  },
  {
   "cell_type": "code",
   "execution_count": 11,
   "metadata": {},
   "outputs": [
    {
     "name": "stdout",
     "output_type": "stream",
     "text": [
      "root\n",
      " |-- age: integer (nullable = true)\n",
      " |-- job: string (nullable = true)\n",
      " |-- marital: string (nullable = true)\n",
      " |-- education: string (nullable = true)\n",
      " |-- default: string (nullable = true)\n",
      " |-- balance: integer (nullable = true)\n",
      " |-- housing: string (nullable = true)\n",
      " |-- loan: string (nullable = true)\n",
      " |-- contact: string (nullable = true)\n",
      " |-- day: integer (nullable = true)\n",
      " |-- month: string (nullable = true)\n",
      " |-- duration: integer (nullable = true)\n",
      " |-- campaign: integer (nullable = true)\n",
      " |-- pdays: integer (nullable = true)\n",
      " |-- previous: integer (nullable = true)\n",
      " |-- poutcome: string (nullable = true)\n",
      " |-- deposit: string (nullable = true)\n",
      "\n"
     ]
    }
   ],
   "source": [
    "df.printSchema()\n",
    "#Print out the schema "
   ]
  },
  {
   "cell_type": "code",
   "execution_count": 12,
   "metadata": {},
   "outputs": [
    {
     "name": "stdout",
     "output_type": "stream",
     "text": [
      "-RECORD 0---------------\n",
      " age       | 59         \n",
      " job       | admin.     \n",
      " marital   | married    \n",
      " education | secondary  \n",
      " default   | no         \n",
      " balance   | 2343       \n",
      " housing   | yes        \n",
      " loan      | no         \n",
      " contact   | unknown    \n",
      " day       | 5          \n",
      " month     | may        \n",
      " duration  | 1042       \n",
      " campaign  | 1          \n",
      " pdays     | -1         \n",
      " previous  | 0          \n",
      " poutcome  | unknown    \n",
      " deposit   | yes        \n",
      "-RECORD 1---------------\n",
      " age       | 56         \n",
      " job       | admin.     \n",
      " marital   | married    \n",
      " education | secondary  \n",
      " default   | no         \n",
      " balance   | 45         \n",
      " housing   | no         \n",
      " loan      | no         \n",
      " contact   | unknown    \n",
      " day       | 5          \n",
      " month     | may        \n",
      " duration  | 1467       \n",
      " campaign  | 1          \n",
      " pdays     | -1         \n",
      " previous  | 0          \n",
      " poutcome  | unknown    \n",
      " deposit   | yes        \n",
      "-RECORD 2---------------\n",
      " age       | 41         \n",
      " job       | technician \n",
      " marital   | married    \n",
      " education | secondary  \n",
      " default   | no         \n",
      " balance   | 1270       \n",
      " housing   | yes        \n",
      " loan      | no         \n",
      " contact   | unknown    \n",
      " day       | 5          \n",
      " month     | may        \n",
      " duration  | 1389       \n",
      " campaign  | 1          \n",
      " pdays     | -1         \n",
      " previous  | 0          \n",
      " poutcome  | unknown    \n",
      " deposit   | yes        \n",
      "-RECORD 3---------------\n",
      " age       | 55         \n",
      " job       | services   \n",
      " marital   | married    \n",
      " education | secondary  \n",
      " default   | no         \n",
      " balance   | 2476       \n",
      " housing   | yes        \n",
      " loan      | no         \n",
      " contact   | unknown    \n",
      " day       | 5          \n",
      " month     | may        \n",
      " duration  | 579        \n",
      " campaign  | 1          \n",
      " pdays     | -1         \n",
      " previous  | 0          \n",
      " poutcome  | unknown    \n",
      " deposit   | yes        \n",
      "-RECORD 4---------------\n",
      " age       | 54         \n",
      " job       | admin.     \n",
      " marital   | married    \n",
      " education | tertiary   \n",
      " default   | no         \n",
      " balance   | 184        \n",
      " housing   | no         \n",
      " loan      | no         \n",
      " contact   | unknown    \n",
      " day       | 5          \n",
      " month     | may        \n",
      " duration  | 673        \n",
      " campaign  | 2          \n",
      " pdays     | -1         \n",
      " previous  | 0          \n",
      " poutcome  | unknown    \n",
      " deposit   | yes        \n",
      "only showing top 5 rows\n",
      "\n"
     ]
    }
   ],
   "source": [
    "df.show(5, truncate=False, vertical=True)\n",
    "## Print the first 5 rows "
   ]
  },
  {
   "cell_type": "code",
   "execution_count": 14,
   "metadata": {},
   "outputs": [
    {
     "name": "stdout",
     "output_type": "stream",
     "text": [
      "+-------+------------------+-------+--------+---------+-------+------------------+-------+-----+--------+------------------+-----+------------------+------------------+------------------+------------------+--------+-------+\n",
      "|summary|               age|    job| marital|education|default|           balance|housing| loan| contact|               day|month|          duration|          campaign|             pdays|          previous|poutcome|deposit|\n",
      "+-------+------------------+-------+--------+---------+-------+------------------+-------+-----+--------+------------------+-----+------------------+------------------+------------------+------------------+--------+-------+\n",
      "|  count|             11162|  11162|   11162|    11162|  11162|             11162|  11162|11162|   11162|             11162|11162|             11162|             11162|             11162|             11162|   11162|  11162|\n",
      "|   mean|41.231947679627304|   null|    null|     null|   null|1528.5385235620856|   null| null|    null|15.658036194230425| null|371.99381831213043| 2.508421429851281| 51.33040673714388|0.8325568894463358|    null|   null|\n",
      "| stddev|11.913369192215518|   null|    null|     null|   null| 3225.413325946149|   null| null|    null| 8.420739541006462| null|347.12838571630687|2.7220771816614824|108.75828197197717| 2.292007218670508|    null|   null|\n",
      "|    min|                18| admin.|divorced|  primary|     no|             -6847|     no|   no|cellular|                 1|  apr|                 2|                 1|                -1|                 0| failure|     no|\n",
      "|    max|                95|unknown|  single|  unknown|    yes|             81204|    yes|  yes| unknown|                31|  sep|              3881|                63|               854|                58| unknown|    yes|\n",
      "+-------+------------------+-------+--------+---------+-------+------------------+-------+-----+--------+------------------+-----+------------------+------------------+------------------+------------------+--------+-------+\n",
      "\n"
     ]
    }
   ],
   "source": [
    "df.describe().show(5)\n",
    "# Compute basic statistics for numeric and string columns.This include count, mean, stddev, min, and max. If no columns are\n",
    "# given, this function computes statistics for all numerical or string columns."
   ]
  },
  {
   "cell_type": "code",
   "execution_count": 15,
   "metadata": {},
   "outputs": [
    {
     "name": "stdout",
     "output_type": "stream",
     "text": [
      "+-------+------------------+------------------+---------+-----+\n",
      "|summary|               age|           balance|education| loan|\n",
      "+-------+------------------+------------------+---------+-----+\n",
      "|  count|             11162|             11162|    11162|11162|\n",
      "|   mean|41.231947679627304|1528.5385235620856|     null| null|\n",
      "| stddev|11.913369192215518| 3225.413325946149|     null| null|\n",
      "|    min|                18|             -6847|  primary|   no|\n",
      "|    max|                95|             81204|  unknown|  yes|\n",
      "+-------+------------------+------------------+---------+-----+\n",
      "\n"
     ]
    }
   ],
   "source": [
    "df.describe([\"age\", \"balance\", \"education\", \"loan\"]).show(5)"
   ]
  },
  {
   "cell_type": "code",
   "execution_count": 18,
   "metadata": {},
   "outputs": [
    {
     "data": {
      "text/plain": [
       "['age',\n",
       " 'job',\n",
       " 'marital',\n",
       " 'education',\n",
       " 'default',\n",
       " 'balance',\n",
       " 'housing',\n",
       " 'loan',\n",
       " 'contact',\n",
       " 'day',\n",
       " 'month',\n",
       " 'duration',\n",
       " 'campaign',\n",
       " 'pdays',\n",
       " 'previous',\n",
       " 'poutcome',\n",
       " 'deposit']"
      ]
     },
     "execution_count": 18,
     "metadata": {},
     "output_type": "execute_result"
    }
   ],
   "source": [
    "df.columns"
   ]
  },
  {
   "cell_type": "code",
   "execution_count": 19,
   "metadata": {},
   "outputs": [],
   "source": [
    "df = df.select('age', 'job', 'marital', 'education', 'default',  'balance', \n",
    "'housing', 'loan', 'contact', 'duration',  'campaign',\n",
    " 'pdays', 'previous', 'poutcome', 'deposit')\n",
    "# a new DataFrame using numerical and categorical column"
   ]
  },
  {
   "cell_type": "code",
   "execution_count": 20,
   "metadata": {},
   "outputs": [
    {
     "name": "stdout",
     "output_type": "stream",
     "text": [
      "+---+----------+-------+---------+-------+-------+-------+----+-------+--------+--------+-----+--------+--------+-------+\n",
      "|age|       job|marital|education|default|balance|housing|loan|contact|duration|campaign|pdays|previous|poutcome|deposit|\n",
      "+---+----------+-------+---------+-------+-------+-------+----+-------+--------+--------+-----+--------+--------+-------+\n",
      "| 59|    admin.|married|secondary|     no|   2343|    yes|  no|unknown|    1042|       1|   -1|       0| unknown|    yes|\n",
      "| 56|    admin.|married|secondary|     no|     45|     no|  no|unknown|    1467|       1|   -1|       0| unknown|    yes|\n",
      "| 41|technician|married|secondary|     no|   1270|    yes|  no|unknown|    1389|       1|   -1|       0| unknown|    yes|\n",
      "| 55|  services|married|secondary|     no|   2476|    yes|  no|unknown|     579|       1|   -1|       0| unknown|    yes|\n",
      "| 54|    admin.|married| tertiary|     no|    184|     no|  no|unknown|     673|       2|   -1|       0| unknown|    yes|\n",
      "+---+----------+-------+---------+-------+-------+-------+----+-------+--------+--------+-----+--------+--------+-------+\n",
      "only showing top 5 rows\n",
      "\n"
     ]
    }
   ],
   "source": [
    "df.show(5)"
   ]
  },
  {
   "cell_type": "code",
   "execution_count": 16,
   "metadata": {},
   "outputs": [],
   "source": [
    "catCols = ['job', 'marital', 'education', 'default','housing', 'loan', 'contact', 'poutcome']\n",
    "# The index of string vlaues multiple columns"
   ]
  },
  {
   "cell_type": "code",
   "execution_count": 17,
   "metadata": {},
   "outputs": [],
   "source": [
    "inputs=catCols\n",
    "outputs=[\"{0}_indexed\".format(c) for c in catCols]\n",
    "\n",
    "\n",
    "indexers = [StringIndexer(inputCol=c, outputCol=\"{0}_indexed\".format(c)) for c in catCols]\n",
    "#  label indexer that maps a string column of labels to an ML column of label indices"
   ]
  },
  {
   "cell_type": "code",
   "execution_count": 18,
   "metadata": {},
   "outputs": [],
   "source": [
    "# The encode of indexed vlaues multiple columns\n",
    "encoders = [OneHotEncoder(dropLast=False,inputCol=indexer.getOutputCol(),\n",
    "            outputCol=\"{0}_encoded\".format(indexer.getOutputCol())) \n",
    "    for indexer in indexers\n",
    "]\n",
    "# A one-hot encoder that maps a column of category indices to a column of binary vectors, with\n",
    "# at most a single one-value per row that indicates the input category index."
   ]
  },
  {
   "cell_type": "code",
   "execution_count": 29,
   "metadata": {},
   "outputs": [],
   "source": [
    "# Vectorizing encoded values\n",
    "assembler = VectorAssembler(inputCols=[encoder.getOutputCol() for encoder in encoders],outputCol=\"rawFeatures\")\n",
    "\n",
    "numericCols = ['age', 'balance', 'duration',  'campaign', 'pdays', 'previous']\n",
    "\n",
    "pipeline = Pipeline(stages=indexers + encoders+ [assembler])\n",
    "model=pipeline.fit(df)\n",
    "transformed = model.transform(df)"
   ]
  },
  {
   "cell_type": "code",
   "execution_count": 30,
   "metadata": {},
   "outputs": [
    {
     "data": {
      "text/plain": [
       "['age',\n",
       " 'job',\n",
       " 'marital',\n",
       " 'education',\n",
       " 'default',\n",
       " 'balance',\n",
       " 'housing',\n",
       " 'loan',\n",
       " 'contact',\n",
       " 'day',\n",
       " 'month',\n",
       " 'duration',\n",
       " 'campaign',\n",
       " 'pdays',\n",
       " 'previous',\n",
       " 'poutcome',\n",
       " 'deposit',\n",
       " 'job_indexed',\n",
       " 'marital_indexed',\n",
       " 'education_indexed',\n",
       " 'default_indexed',\n",
       " 'housing_indexed',\n",
       " 'loan_indexed',\n",
       " 'contact_indexed',\n",
       " 'poutcome_indexed',\n",
       " 'job_indexed_encoded',\n",
       " 'marital_indexed_encoded',\n",
       " 'education_indexed_encoded',\n",
       " 'default_indexed_encoded',\n",
       " 'housing_indexed_encoded',\n",
       " 'loan_indexed_encoded',\n",
       " 'contact_indexed_encoded',\n",
       " 'poutcome_indexed_encoded',\n",
       " 'rawFeatures']"
      ]
     },
     "execution_count": 30,
     "metadata": {},
     "output_type": "execute_result"
    }
   ],
   "source": [
    "transformed.columns"
   ]
  },
  {
   "cell_type": "code",
   "execution_count": 31,
   "metadata": {},
   "outputs": [
    {
     "data": {
      "text/plain": [
       "Row(rawFeatures=SparseVector(32, {3: 1.0, 12: 1.0, 15: 1.0, 19: 1.0, 22: 1.0, 23: 1.0, 26: 1.0, 28: 1.0}))"
      ]
     },
     "execution_count": 31,
     "metadata": {},
     "output_type": "execute_result"
    }
   ],
   "source": [
    "transformed.select('rawFeatures').first()"
   ]
  },
  {
   "cell_type": "code",
   "execution_count": 32,
   "metadata": {},
   "outputs": [
    {
     "name": "stdout",
     "output_type": "stream",
     "text": [
      "root\n",
      " |-- age: integer (nullable = true)\n",
      " |-- job: string (nullable = true)\n",
      " |-- marital: string (nullable = true)\n",
      " |-- education: string (nullable = true)\n",
      " |-- default: string (nullable = true)\n",
      " |-- balance: integer (nullable = true)\n",
      " |-- housing: string (nullable = true)\n",
      " |-- loan: string (nullable = true)\n",
      " |-- contact: string (nullable = true)\n",
      " |-- day: integer (nullable = true)\n",
      " |-- month: string (nullable = true)\n",
      " |-- duration: integer (nullable = true)\n",
      " |-- campaign: integer (nullable = true)\n",
      " |-- pdays: integer (nullable = true)\n",
      " |-- previous: integer (nullable = true)\n",
      " |-- poutcome: string (nullable = true)\n",
      " |-- deposit: string (nullable = true)\n",
      " |-- job_indexed: double (nullable = false)\n",
      " |-- marital_indexed: double (nullable = false)\n",
      " |-- education_indexed: double (nullable = false)\n",
      " |-- default_indexed: double (nullable = false)\n",
      " |-- housing_indexed: double (nullable = false)\n",
      " |-- loan_indexed: double (nullable = false)\n",
      " |-- contact_indexed: double (nullable = false)\n",
      " |-- poutcome_indexed: double (nullable = false)\n",
      " |-- job_indexed_encoded: vector (nullable = true)\n",
      " |-- marital_indexed_encoded: vector (nullable = true)\n",
      " |-- education_indexed_encoded: vector (nullable = true)\n",
      " |-- default_indexed_encoded: vector (nullable = true)\n",
      " |-- housing_indexed_encoded: vector (nullable = true)\n",
      " |-- loan_indexed_encoded: vector (nullable = true)\n",
      " |-- contact_indexed_encoded: vector (nullable = true)\n",
      " |-- poutcome_indexed_encoded: vector (nullable = true)\n",
      " |-- rawFeatures: vector (nullable = true)\n",
      "\n"
     ]
    }
   ],
   "source": [
    "transformed.printSchema()"
   ]
  },
  {
   "cell_type": "markdown",
   "metadata": {},
   "source": [
    "### Training and Testing Data"
   ]
  },
  {
   "cell_type": "code",
   "execution_count": 37,
   "metadata": {},
   "outputs": [],
   "source": [
    "(trainingData, testData) = transformed.randomSplit([0.7, 0.3],seed = 11)"
   ]
  },
  {
   "cell_type": "code",
   "execution_count": 38,
   "metadata": {},
   "outputs": [
    {
     "name": "stdout",
     "output_type": "stream",
     "text": [
      "-RECORD 0------------------------------------------------------------------------------------\n",
      " age                       | 18                                                              \n",
      " job                       | student                                                         \n",
      " marital                   | single                                                          \n",
      " education                 | primary                                                         \n",
      " default                   | no                                                              \n",
      " balance                   | 608                                                             \n",
      " housing                   | no                                                              \n",
      " loan                      | no                                                              \n",
      " contact                   | cellular                                                        \n",
      " day                       | 12                                                              \n",
      " month                     | aug                                                             \n",
      " duration                  | 267                                                             \n",
      " campaign                  | 1                                                               \n",
      " pdays                     | -1                                                              \n",
      " previous                  | 0                                                               \n",
      " poutcome                  | unknown                                                         \n",
      " deposit                   | yes                                                             \n",
      " job_indexed               | 7.0                                                             \n",
      " marital_indexed           | 1.0                                                             \n",
      " education_indexed         | 2.0                                                             \n",
      " default_indexed           | 0.0                                                             \n",
      " housing_indexed           | 0.0                                                             \n",
      " loan_indexed              | 0.0                                                             \n",
      " contact_indexed           | 0.0                                                             \n",
      " poutcome_indexed          | 0.0                                                             \n",
      " job_indexed_encoded       | (12,[7],[1.0])                                                  \n",
      " marital_indexed_encoded   | (3,[1],[1.0])                                                   \n",
      " education_indexed_encoded | (4,[2],[1.0])                                                   \n",
      " default_indexed_encoded   | (2,[0],[1.0])                                                   \n",
      " housing_indexed_encoded   | (2,[0],[1.0])                                                   \n",
      " loan_indexed_encoded      | (2,[0],[1.0])                                                   \n",
      " contact_indexed_encoded   | (3,[0],[1.0])                                                   \n",
      " poutcome_indexed_encoded  | (4,[0],[1.0])                                                   \n",
      " rawFeatures               | (32,[7,13,17,19,21,23,25,28],[1.0,1.0,1.0,1.0,1.0,1.0,1.0,1.0]) \n",
      "-RECORD 1------------------------------------------------------------------------------------\n",
      " age                       | 18                                                              \n",
      " job                       | student                                                         \n",
      " marital                   | single                                                          \n",
      " education                 | primary                                                         \n",
      " default                   | no                                                              \n",
      " balance                   | 608                                                             \n",
      " housing                   | no                                                              \n",
      " loan                      | no                                                              \n",
      " contact                   | cellular                                                        \n",
      " day                       | 13                                                              \n",
      " month                     | nov                                                             \n",
      " duration                  | 210                                                             \n",
      " campaign                  | 1                                                               \n",
      " pdays                     | 93                                                              \n",
      " previous                  | 1                                                               \n",
      " poutcome                  | success                                                         \n",
      " deposit                   | yes                                                             \n",
      " job_indexed               | 7.0                                                             \n",
      " marital_indexed           | 1.0                                                             \n",
      " education_indexed         | 2.0                                                             \n",
      " default_indexed           | 0.0                                                             \n",
      " housing_indexed           | 0.0                                                             \n",
      " loan_indexed              | 0.0                                                             \n",
      " contact_indexed           | 0.0                                                             \n",
      " poutcome_indexed          | 2.0                                                             \n",
      " job_indexed_encoded       | (12,[7],[1.0])                                                  \n",
      " marital_indexed_encoded   | (3,[1],[1.0])                                                   \n",
      " education_indexed_encoded | (4,[2],[1.0])                                                   \n",
      " default_indexed_encoded   | (2,[0],[1.0])                                                   \n",
      " housing_indexed_encoded   | (2,[0],[1.0])                                                   \n",
      " loan_indexed_encoded      | (2,[0],[1.0])                                                   \n",
      " contact_indexed_encoded   | (3,[0],[1.0])                                                   \n",
      " poutcome_indexed_encoded  | (4,[2],[1.0])                                                   \n",
      " rawFeatures               | (32,[7,13,17,19,21,23,25,30],[1.0,1.0,1.0,1.0,1.0,1.0,1.0,1.0]) \n",
      "-RECORD 2------------------------------------------------------------------------------------\n",
      " age                       | 18                                                              \n",
      " job                       | student                                                         \n",
      " marital                   | single                                                          \n",
      " education                 | secondary                                                       \n",
      " default                   | no                                                              \n",
      " balance                   | 5                                                               \n",
      " housing                   | no                                                              \n",
      " loan                      | no                                                              \n",
      " contact                   | cellular                                                        \n",
      " day                       | 24                                                              \n",
      " month                     | aug                                                             \n",
      " duration                  | 143                                                             \n",
      " campaign                  | 2                                                               \n",
      " pdays                     | -1                                                              \n",
      " previous                  | 0                                                               \n",
      " poutcome                  | unknown                                                         \n",
      " deposit                   | no                                                              \n",
      " job_indexed               | 7.0                                                             \n",
      " marital_indexed           | 1.0                                                             \n",
      " education_indexed         | 0.0                                                             \n",
      " default_indexed           | 0.0                                                             \n",
      " housing_indexed           | 0.0                                                             \n",
      " loan_indexed              | 0.0                                                             \n",
      " contact_indexed           | 0.0                                                             \n",
      " poutcome_indexed          | 0.0                                                             \n",
      " job_indexed_encoded       | (12,[7],[1.0])                                                  \n",
      " marital_indexed_encoded   | (3,[1],[1.0])                                                   \n",
      " education_indexed_encoded | (4,[0],[1.0])                                                   \n",
      " default_indexed_encoded   | (2,[0],[1.0])                                                   \n",
      " housing_indexed_encoded   | (2,[0],[1.0])                                                   \n",
      " loan_indexed_encoded      | (2,[0],[1.0])                                                   \n",
      " contact_indexed_encoded   | (3,[0],[1.0])                                                   \n",
      " poutcome_indexed_encoded  | (4,[0],[1.0])                                                   \n",
      " rawFeatures               | (32,[7,13,15,19,21,23,25,28],[1.0,1.0,1.0,1.0,1.0,1.0,1.0,1.0]) \n",
      "-RECORD 3------------------------------------------------------------------------------------\n",
      " age                       | 18                                                              \n",
      " job                       | student                                                         \n",
      " marital                   | single                                                          \n",
      " education                 | unknown                                                         \n",
      " default                   | no                                                              \n",
      " balance                   | 3                                                               \n",
      " housing                   | no                                                              \n",
      " loan                      | no                                                              \n",
      " contact                   | cellular                                                        \n",
      " day                       | 25                                                              \n",
      " month                     | aug                                                             \n",
      " duration                  | 130                                                             \n",
      " campaign                  | 2                                                               \n",
      " pdays                     | -1                                                              \n",
      " previous                  | 0                                                               \n",
      " poutcome                  | unknown                                                         \n",
      " deposit                   | yes                                                             \n",
      " job_indexed               | 7.0                                                             \n",
      " marital_indexed           | 1.0                                                             \n",
      " education_indexed         | 3.0                                                             \n",
      " default_indexed           | 0.0                                                             \n",
      " housing_indexed           | 0.0                                                             \n",
      " loan_indexed              | 0.0                                                             \n",
      " contact_indexed           | 0.0                                                             \n",
      " poutcome_indexed          | 0.0                                                             \n",
      " job_indexed_encoded       | (12,[7],[1.0])                                                  \n",
      " marital_indexed_encoded   | (3,[1],[1.0])                                                   \n",
      " education_indexed_encoded | (4,[3],[1.0])                                                   \n",
      " default_indexed_encoded   | (2,[0],[1.0])                                                   \n",
      " housing_indexed_encoded   | (2,[0],[1.0])                                                   \n",
      " loan_indexed_encoded      | (2,[0],[1.0])                                                   \n",
      " contact_indexed_encoded   | (3,[0],[1.0])                                                   \n",
      " poutcome_indexed_encoded  | (4,[0],[1.0])                                                   \n",
      " rawFeatures               | (32,[7,13,18,19,21,23,25,28],[1.0,1.0,1.0,1.0,1.0,1.0,1.0,1.0]) \n",
      "-RECORD 4------------------------------------------------------------------------------------\n",
      " age                       | 18                                                              \n",
      " job                       | student                                                         \n",
      " marital                   | single                                                          \n",
      " education                 | unknown                                                         \n",
      " default                   | no                                                              \n",
      " balance                   | 108                                                             \n",
      " housing                   | no                                                              \n",
      " loan                      | no                                                              \n",
      " contact                   | cellular                                                        \n",
      " day                       | 8                                                               \n",
      " month                     | sep                                                             \n",
      " duration                  | 169                                                             \n",
      " campaign                  | 1                                                               \n",
      " pdays                     | -1                                                              \n",
      " previous                  | 0                                                               \n",
      " poutcome                  | unknown                                                         \n",
      " deposit                   | yes                                                             \n",
      " job_indexed               | 7.0                                                             \n",
      " marital_indexed           | 1.0                                                             \n",
      " education_indexed         | 3.0                                                             \n",
      " default_indexed           | 0.0                                                             \n",
      " housing_indexed           | 0.0                                                             \n",
      " loan_indexed              | 0.0                                                             \n",
      " contact_indexed           | 0.0                                                             \n",
      " poutcome_indexed          | 0.0                                                             \n",
      " job_indexed_encoded       | (12,[7],[1.0])                                                  \n",
      " marital_indexed_encoded   | (3,[1],[1.0])                                                   \n",
      " education_indexed_encoded | (4,[3],[1.0])                                                   \n",
      " default_indexed_encoded   | (2,[0],[1.0])                                                   \n",
      " housing_indexed_encoded   | (2,[0],[1.0])                                                   \n",
      " loan_indexed_encoded      | (2,[0],[1.0])                                                   \n",
      " contact_indexed_encoded   | (3,[0],[1.0])                                                   \n",
      " poutcome_indexed_encoded  | (4,[0],[1.0])                                                   \n",
      " rawFeatures               | (32,[7,13,18,19,21,23,25,28],[1.0,1.0,1.0,1.0,1.0,1.0,1.0,1.0]) \n",
      "only showing top 5 rows\n",
      "\n"
     ]
    }
   ],
   "source": [
    "trainingData.show(5,truncate=False, vertical=True)"
   ]
  },
  {
   "cell_type": "code",
   "execution_count": 39,
   "metadata": {},
   "outputs": [
    {
     "name": "stdout",
     "output_type": "stream",
     "text": [
      "-RECORD 0------------------------------------------------------------------------------------\n",
      " age                       | 18                                                              \n",
      " job                       | student                                                         \n",
      " marital                   | single                                                          \n",
      " education                 | unknown                                                         \n",
      " default                   | no                                                              \n",
      " balance                   | 108                                                             \n",
      " housing                   | no                                                              \n",
      " loan                      | no                                                              \n",
      " contact                   | cellular                                                        \n",
      " day                       | 9                                                               \n",
      " month                     | feb                                                             \n",
      " duration                  | 92                                                              \n",
      " campaign                  | 1                                                               \n",
      " pdays                     | 183                                                             \n",
      " previous                  | 1                                                               \n",
      " poutcome                  | success                                                         \n",
      " deposit                   | yes                                                             \n",
      " job_indexed               | 7.0                                                             \n",
      " marital_indexed           | 1.0                                                             \n",
      " education_indexed         | 3.0                                                             \n",
      " default_indexed           | 0.0                                                             \n",
      " housing_indexed           | 0.0                                                             \n",
      " loan_indexed              | 0.0                                                             \n",
      " contact_indexed           | 0.0                                                             \n",
      " poutcome_indexed          | 2.0                                                             \n",
      " job_indexed_encoded       | (12,[7],[1.0])                                                  \n",
      " marital_indexed_encoded   | (3,[1],[1.0])                                                   \n",
      " education_indexed_encoded | (4,[3],[1.0])                                                   \n",
      " default_indexed_encoded   | (2,[0],[1.0])                                                   \n",
      " housing_indexed_encoded   | (2,[0],[1.0])                                                   \n",
      " loan_indexed_encoded      | (2,[0],[1.0])                                                   \n",
      " contact_indexed_encoded   | (3,[0],[1.0])                                                   \n",
      " poutcome_indexed_encoded  | (4,[2],[1.0])                                                   \n",
      " rawFeatures               | (32,[7,13,18,19,21,23,25,30],[1.0,1.0,1.0,1.0,1.0,1.0,1.0,1.0]) \n",
      "-RECORD 1------------------------------------------------------------------------------------\n",
      " age                       | 18                                                              \n",
      " job                       | student                                                         \n",
      " marital                   | single                                                          \n",
      " education                 | unknown                                                         \n",
      " default                   | no                                                              \n",
      " balance                   | 108                                                             \n",
      " housing                   | no                                                              \n",
      " loan                      | no                                                              \n",
      " contact                   | cellular                                                        \n",
      " day                       | 10                                                              \n",
      " month                     | aug                                                             \n",
      " duration                  | 167                                                             \n",
      " campaign                  | 1                                                               \n",
      " pdays                     | -1                                                              \n",
      " previous                  | 0                                                               \n",
      " poutcome                  | unknown                                                         \n",
      " deposit                   | yes                                                             \n",
      " job_indexed               | 7.0                                                             \n",
      " marital_indexed           | 1.0                                                             \n",
      " education_indexed         | 3.0                                                             \n",
      " default_indexed           | 0.0                                                             \n",
      " housing_indexed           | 0.0                                                             \n",
      " loan_indexed              | 0.0                                                             \n",
      " contact_indexed           | 0.0                                                             \n",
      " poutcome_indexed          | 0.0                                                             \n",
      " job_indexed_encoded       | (12,[7],[1.0])                                                  \n",
      " marital_indexed_encoded   | (3,[1],[1.0])                                                   \n",
      " education_indexed_encoded | (4,[3],[1.0])                                                   \n",
      " default_indexed_encoded   | (2,[0],[1.0])                                                   \n",
      " housing_indexed_encoded   | (2,[0],[1.0])                                                   \n",
      " loan_indexed_encoded      | (2,[0],[1.0])                                                   \n",
      " contact_indexed_encoded   | (3,[0],[1.0])                                                   \n",
      " poutcome_indexed_encoded  | (4,[0],[1.0])                                                   \n",
      " rawFeatures               | (32,[7,13,18,19,21,23,25,28],[1.0,1.0,1.0,1.0,1.0,1.0,1.0,1.0]) \n",
      "-RECORD 2------------------------------------------------------------------------------------\n",
      " age                       | 19                                                              \n",
      " job                       | student                                                         \n",
      " marital                   | single                                                          \n",
      " education                 | secondary                                                       \n",
      " default                   | no                                                              \n",
      " balance                   | 55                                                              \n",
      " housing                   | no                                                              \n",
      " loan                      | no                                                              \n",
      " contact                   | telephone                                                       \n",
      " day                       | 6                                                               \n",
      " month                     | oct                                                             \n",
      " duration                  | 89                                                              \n",
      " campaign                  | 2                                                               \n",
      " pdays                     | 193                                                             \n",
      " previous                  | 1                                                               \n",
      " poutcome                  | other                                                           \n",
      " deposit                   | no                                                              \n",
      " job_indexed               | 7.0                                                             \n",
      " marital_indexed           | 1.0                                                             \n",
      " education_indexed         | 0.0                                                             \n",
      " default_indexed           | 0.0                                                             \n",
      " housing_indexed           | 0.0                                                             \n",
      " loan_indexed              | 0.0                                                             \n",
      " contact_indexed           | 2.0                                                             \n",
      " poutcome_indexed          | 3.0                                                             \n",
      " job_indexed_encoded       | (12,[7],[1.0])                                                  \n",
      " marital_indexed_encoded   | (3,[1],[1.0])                                                   \n",
      " education_indexed_encoded | (4,[0],[1.0])                                                   \n",
      " default_indexed_encoded   | (2,[0],[1.0])                                                   \n",
      " housing_indexed_encoded   | (2,[0],[1.0])                                                   \n",
      " loan_indexed_encoded      | (2,[0],[1.0])                                                   \n",
      " contact_indexed_encoded   | (3,[2],[1.0])                                                   \n",
      " poutcome_indexed_encoded  | (4,[3],[1.0])                                                   \n",
      " rawFeatures               | (32,[7,13,15,19,21,23,27,31],[1.0,1.0,1.0,1.0,1.0,1.0,1.0,1.0]) \n",
      "-RECORD 3------------------------------------------------------------------------------------\n",
      " age                       | 19                                                              \n",
      " job                       | student                                                         \n",
      " marital                   | single                                                          \n",
      " education                 | secondary                                                       \n",
      " default                   | no                                                              \n",
      " balance                   | 302                                                             \n",
      " housing                   | no                                                              \n",
      " loan                      | no                                                              \n",
      " contact                   | cellular                                                        \n",
      " day                       | 16                                                              \n",
      " month                     | jul                                                             \n",
      " duration                  | 205                                                             \n",
      " campaign                  | 1                                                               \n",
      " pdays                     | -1                                                              \n",
      " previous                  | 0                                                               \n",
      " poutcome                  | unknown                                                         \n",
      " deposit                   | yes                                                             \n",
      " job_indexed               | 7.0                                                             \n",
      " marital_indexed           | 1.0                                                             \n",
      " education_indexed         | 0.0                                                             \n",
      " default_indexed           | 0.0                                                             \n",
      " housing_indexed           | 0.0                                                             \n",
      " loan_indexed              | 0.0                                                             \n",
      " contact_indexed           | 0.0                                                             \n",
      " poutcome_indexed          | 0.0                                                             \n",
      " job_indexed_encoded       | (12,[7],[1.0])                                                  \n",
      " marital_indexed_encoded   | (3,[1],[1.0])                                                   \n",
      " education_indexed_encoded | (4,[0],[1.0])                                                   \n",
      " default_indexed_encoded   | (2,[0],[1.0])                                                   \n",
      " housing_indexed_encoded   | (2,[0],[1.0])                                                   \n",
      " loan_indexed_encoded      | (2,[0],[1.0])                                                   \n",
      " contact_indexed_encoded   | (3,[0],[1.0])                                                   \n",
      " poutcome_indexed_encoded  | (4,[0],[1.0])                                                   \n",
      " rawFeatures               | (32,[7,13,15,19,21,23,25,28],[1.0,1.0,1.0,1.0,1.0,1.0,1.0,1.0]) \n",
      "-RECORD 4------------------------------------------------------------------------------------\n",
      " age                       | 19                                                              \n",
      " job                       | student                                                         \n",
      " marital                   | single                                                          \n",
      " education                 | secondary                                                       \n",
      " default                   | no                                                              \n",
      " balance                   | 329                                                             \n",
      " housing                   | no                                                              \n",
      " loan                      | no                                                              \n",
      " contact                   | cellular                                                        \n",
      " day                       | 22                                                              \n",
      " month                     | oct                                                             \n",
      " duration                  | 252                                                             \n",
      " campaign                  | 2                                                               \n",
      " pdays                     | -1                                                              \n",
      " previous                  | 0                                                               \n",
      " poutcome                  | unknown                                                         \n",
      " deposit                   | yes                                                             \n",
      " job_indexed               | 7.0                                                             \n",
      " marital_indexed           | 1.0                                                             \n",
      " education_indexed         | 0.0                                                             \n",
      " default_indexed           | 0.0                                                             \n",
      " housing_indexed           | 0.0                                                             \n",
      " loan_indexed              | 0.0                                                             \n",
      " contact_indexed           | 0.0                                                             \n",
      " poutcome_indexed          | 0.0                                                             \n",
      " job_indexed_encoded       | (12,[7],[1.0])                                                  \n",
      " marital_indexed_encoded   | (3,[1],[1.0])                                                   \n",
      " education_indexed_encoded | (4,[0],[1.0])                                                   \n",
      " default_indexed_encoded   | (2,[0],[1.0])                                                   \n",
      " housing_indexed_encoded   | (2,[0],[1.0])                                                   \n",
      " loan_indexed_encoded      | (2,[0],[1.0])                                                   \n",
      " contact_indexed_encoded   | (3,[0],[1.0])                                                   \n",
      " poutcome_indexed_encoded  | (4,[0],[1.0])                                                   \n",
      " rawFeatures               | (32,[7,13,15,19,21,23,25,28],[1.0,1.0,1.0,1.0,1.0,1.0,1.0,1.0]) \n",
      "only showing top 5 rows\n",
      "\n"
     ]
    }
   ],
   "source": [
    "testData.show(5,truncate=False, vertical=True)"
   ]
  },
  {
   "cell_type": "markdown",
   "metadata": {},
   "source": [
    "## Modeling"
   ]
  },
  {
   "cell_type": "markdown",
   "metadata": {},
   "source": [
    "Next step is to Modeling ... "
   ]
  },
  {
   "cell_type": "markdown",
   "metadata": {},
   "source": [
    "#### LogisticRegression"
   ]
  },
  {
   "cell_type": "code",
   "execution_count": 42,
   "metadata": {},
   "outputs": [
    {
     "name": "stdout",
     "output_type": "stream",
     "text": [
      "+----------+------------+--------------------+\n",
      "|prediction|loan_indexed|         rawFeatures|\n",
      "+----------+------------+--------------------+\n",
      "|       0.0|         0.0|(32,[7,13,18,19,2...|\n",
      "|       0.0|         0.0|(32,[7,13,18,19,2...|\n",
      "|       0.0|         0.0|(32,[7,13,15,19,2...|\n",
      "|       0.0|         0.0|(32,[7,13,15,19,2...|\n",
      "|       0.0|         0.0|(32,[7,13,15,19,2...|\n",
      "|       0.0|         0.0|(32,[7,13,15,19,2...|\n",
      "|       0.0|         0.0|(32,[7,13,15,19,2...|\n",
      "|       0.0|         0.0|(32,[7,13,18,19,2...|\n",
      "|       1.0|         1.0|(32,[3,13,15,19,2...|\n",
      "|       0.0|         0.0|(32,[7,13,17,19,2...|\n",
      "|       0.0|         0.0|(32,[7,13,15,19,2...|\n",
      "|       0.0|         0.0|(32,[7,13,15,19,2...|\n",
      "|       0.0|         0.0|(32,[7,13,15,19,2...|\n",
      "|       0.0|         0.0|(32,[7,13,18,19,2...|\n",
      "|       0.0|         0.0|(32,[7,13,18,19,2...|\n",
      "|       0.0|         0.0|(32,[7,13,18,19,2...|\n",
      "|       1.0|         1.0|(32,[0,13,16,19,2...|\n",
      "|       0.0|         0.0|(32,[7,13,17,19,2...|\n",
      "|       0.0|         0.0|(32,[7,13,15,19,2...|\n",
      "|       0.0|         0.0|(32,[7,13,15,19,2...|\n",
      "+----------+------------+--------------------+\n",
      "only showing top 20 rows\n",
      "\n"
     ]
    }
   ],
   "source": [
    "from pyspark.ml.classification import LogisticRegression\n",
    "lr = LogisticRegression(labelCol=\"loan_indexed\", featuresCol=\"rawFeatures\")\n",
    "#Training algo\n",
    "lrModel = lr.fit(trainingData)\n",
    "\n",
    "lr_prediction = lrModel.transform(testData)\n",
    "\n",
    "lr_prediction.select(\"prediction\", \"loan_indexed\", \"rawFeatures\").show()\n",
    "\n",
    "evaluator = MulticlassClassificationEvaluator(labelCol=\"loan_indexed\", predictionCol=\"prediction\", metricName=\"accuracy\")"
   ]
  },
  {
   "cell_type": "code",
   "execution_count": 43,
   "metadata": {},
   "outputs": [
    {
     "name": "stdout",
     "output_type": "stream",
     "text": [
      "Accuracy of LogisticRegression is = 1\n",
      "Test Error of LogisticRegression = 0 \n"
     ]
    }
   ],
   "source": [
    "lr_accuracy = evaluator.evaluate(lr_prediction)\n",
    "\n",
    "print(\"Accuracy of LogisticRegression is = %g\"% (lr_accuracy))\n",
    "print(\"Test Error of LogisticRegression = %g \" % (1.0 - lr_accuracy))"
   ]
  },
  {
   "cell_type": "markdown",
   "metadata": {},
   "source": [
    "#### DecisionTreeClassifier"
   ]
  },
  {
   "cell_type": "code",
   "execution_count": 44,
   "metadata": {},
   "outputs": [
    {
     "name": "stdout",
     "output_type": "stream",
     "text": [
      "+----------+------------+--------------------+\n",
      "|prediction|loan_indexed|         rawFeatures|\n",
      "+----------+------------+--------------------+\n",
      "|       0.0|         0.0|(32,[7,13,18,19,2...|\n",
      "|       0.0|         0.0|(32,[7,13,18,19,2...|\n",
      "|       0.0|         0.0|(32,[7,13,15,19,2...|\n",
      "|       0.0|         0.0|(32,[7,13,15,19,2...|\n",
      "|       0.0|         0.0|(32,[7,13,15,19,2...|\n",
      "|       0.0|         0.0|(32,[7,13,15,19,2...|\n",
      "|       0.0|         0.0|(32,[7,13,15,19,2...|\n",
      "|       0.0|         0.0|(32,[7,13,18,19,2...|\n",
      "|       1.0|         1.0|(32,[3,13,15,19,2...|\n",
      "|       0.0|         0.0|(32,[7,13,17,19,2...|\n",
      "|       0.0|         0.0|(32,[7,13,15,19,2...|\n",
      "|       0.0|         0.0|(32,[7,13,15,19,2...|\n",
      "|       0.0|         0.0|(32,[7,13,15,19,2...|\n",
      "|       0.0|         0.0|(32,[7,13,18,19,2...|\n",
      "|       0.0|         0.0|(32,[7,13,18,19,2...|\n",
      "|       0.0|         0.0|(32,[7,13,18,19,2...|\n",
      "|       1.0|         1.0|(32,[0,13,16,19,2...|\n",
      "|       0.0|         0.0|(32,[7,13,17,19,2...|\n",
      "|       0.0|         0.0|(32,[7,13,15,19,2...|\n",
      "|       0.0|         0.0|(32,[7,13,15,19,2...|\n",
      "+----------+------------+--------------------+\n",
      "only showing top 20 rows\n",
      "\n"
     ]
    }
   ],
   "source": [
    "from pyspark.ml.classification import DecisionTreeClassifier\n",
    "dt = DecisionTreeClassifier(labelCol=\"loan_indexed\", featuresCol=\"rawFeatures\")\n",
    "dt_model = dt.fit(trainingData)\n",
    "dt_prediction = dt_model.transform(testData)\n",
    "dt_prediction.select(\"prediction\", \"loan_indexed\", \"rawFeatures\").show()"
   ]
  },
  {
   "cell_type": "code",
   "execution_count": 46,
   "metadata": {},
   "outputs": [
    {
     "name": "stdout",
     "output_type": "stream",
     "text": [
      "Accuracy of DecisionTreeClassifier is = 1\n",
      "Test Error of DecisionTreeClassifier = 0 \n"
     ]
    }
   ],
   "source": [
    "dt_accuracy = evaluator.evaluate(dt_prediction)\n",
    "print(\"Accuracy of DecisionTreeClassifier is = %g\"% (dt_accuracy))\n",
    "print(\"Test Error of DecisionTreeClassifier = %g \" % (1.0 - dt_accuracy))"
   ]
  },
  {
   "cell_type": "markdown",
   "metadata": {},
   "source": [
    "#### RandomForestClassifier"
   ]
  },
  {
   "cell_type": "code",
   "execution_count": 47,
   "metadata": {},
   "outputs": [
    {
     "name": "stdout",
     "output_type": "stream",
     "text": [
      "+----------+------------+--------------------+\n",
      "|prediction|loan_indexed|         rawFeatures|\n",
      "+----------+------------+--------------------+\n",
      "|       0.0|         0.0|(32,[7,13,18,19,2...|\n",
      "|       0.0|         0.0|(32,[7,13,18,19,2...|\n",
      "|       0.0|         0.0|(32,[7,13,15,19,2...|\n",
      "|       0.0|         0.0|(32,[7,13,15,19,2...|\n",
      "|       0.0|         0.0|(32,[7,13,15,19,2...|\n",
      "|       0.0|         0.0|(32,[7,13,15,19,2...|\n",
      "|       0.0|         0.0|(32,[7,13,15,19,2...|\n",
      "|       0.0|         0.0|(32,[7,13,18,19,2...|\n",
      "|       1.0|         1.0|(32,[3,13,15,19,2...|\n",
      "|       0.0|         0.0|(32,[7,13,17,19,2...|\n",
      "|       0.0|         0.0|(32,[7,13,15,19,2...|\n",
      "|       0.0|         0.0|(32,[7,13,15,19,2...|\n",
      "|       0.0|         0.0|(32,[7,13,15,19,2...|\n",
      "|       0.0|         0.0|(32,[7,13,18,19,2...|\n",
      "|       0.0|         0.0|(32,[7,13,18,19,2...|\n",
      "|       0.0|         0.0|(32,[7,13,18,19,2...|\n",
      "|       1.0|         1.0|(32,[0,13,16,19,2...|\n",
      "|       0.0|         0.0|(32,[7,13,17,19,2...|\n",
      "|       0.0|         0.0|(32,[7,13,15,19,2...|\n",
      "|       0.0|         0.0|(32,[7,13,15,19,2...|\n",
      "+----------+------------+--------------------+\n",
      "only showing top 20 rows\n",
      "\n"
     ]
    }
   ],
   "source": [
    "from pyspark.ml.classification import RandomForestClassifier\n",
    "rf = DecisionTreeClassifier(labelCol=\"loan_indexed\", featuresCol=\"rawFeatures\")\n",
    "rf_model = rf.fit(trainingData)\n",
    "rf_prediction = rf_model.transform(testData)\n",
    "rf_prediction.select(\"prediction\", \"loan_indexed\", \"rawFeatures\").show()"
   ]
  },
  {
   "cell_type": "code",
   "execution_count": 48,
   "metadata": {},
   "outputs": [
    {
     "name": "stdout",
     "output_type": "stream",
     "text": [
      "Accuracy of RandomForestClassifier is = 1\n",
      "Test Error of RandomForestClassifier  = 0 \n"
     ]
    }
   ],
   "source": [
    "rf_accuracy = evaluator.evaluate(rf_prediction)\n",
    "print(\"Accuracy of RandomForestClassifier is = %g\"% (rf_accuracy))\n",
    "print(\"Test Error of RandomForestClassifier  = %g \" % (1.0 - rf_accuracy))"
   ]
  }
 ],
 "metadata": {
  "kernelspec": {
   "display_name": "Python 3",
   "language": "python",
   "name": "python3"
  },
  "language_info": {
   "codemirror_mode": {
    "name": "ipython",
    "version": 3
   },
   "file_extension": ".py",
   "mimetype": "text/x-python",
   "name": "python",
   "nbconvert_exporter": "python",
   "pygments_lexer": "ipython3",
   "version": "3.7.4"
  }
 },
 "nbformat": 4,
 "nbformat_minor": 2
}
